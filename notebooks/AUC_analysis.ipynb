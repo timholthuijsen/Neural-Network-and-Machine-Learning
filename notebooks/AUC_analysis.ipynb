{
  "nbformat": 4,
  "nbformat_minor": 0,
  "metadata": {
    "colab": {
      "name": "AUC_analysis.ipynb",
      "provenance": [],
      "collapsed_sections": []
    },
    "kernelspec": {
      "name": "python3",
      "display_name": "Python 3"
    }
  },
  "cells": [
    {
      "cell_type": "code",
      "metadata": {
        "id": "4Te1bVigiPRo",
        "colab_type": "code",
        "colab": {}
      },
      "source": [
        "import numpy as np\n",
        "import pandas as pd\n",
        "from sklearn.metrics import roc_auc_score"
      ],
      "execution_count": null,
      "outputs": []
    },
    {
      "cell_type": "code",
      "metadata": {
        "id": "FOgUNfeTiUVo",
        "colab_type": "code",
        "colab": {}
      },
      "source": [
        "from google.colab import files\n",
        "files.upload()"
      ],
      "execution_count": null,
      "outputs": []
    },
    {
      "cell_type": "code",
      "metadata": {
        "id": "u2-Y-fmFiby_",
        "colab_type": "code",
        "colab": {}
      },
      "source": [
        "bert_labels = pd.read_csv('bert_labels_full.csv')\n",
        "unhealthy_full = pd.read_csv('unhealthy_full.csv')"
      ],
      "execution_count": null,
      "outputs": []
    },
    {
      "cell_type": "code",
      "metadata": {
        "id": "eYzJi3TjjHRy",
        "colab_type": "code",
        "colab": {}
      },
      "source": [
        "attributes = [\n",
        "    'antagonise' , 'condescending', 'dismissive', 'generalisation',\n",
        "    'generalisation_unfair', 'healthy', 'hostile', 'sarcastic']"
      ],
      "execution_count": null,
      "outputs": []
    },
    {
      "cell_type": "code",
      "metadata": {
        "id": "4EsXch4ojja6",
        "colab_type": "code",
        "colab": {}
      },
      "source": [
        "label_ids = bert_labels._unit_id\n",
        "unhealthy_test = unhealthy_full[unhealthy_full['_unit_id'].isin(label_ids)]\n",
        "unhealthy_test['concat_id'] = unhealthy_test.apply(lambda x: str(x['_unit_id']) + str(x['_worker_id']), axis=1)"
      ],
      "execution_count": null,
      "outputs": []
    },
    {
      "cell_type": "code",
      "metadata": {
        "id": "2H-w8rK03ydp",
        "colab_type": "code",
        "colab": {}
      },
      "source": [
        "unhealthy_test.sort_values(by='_unit_id',inplace=True,ignore_index=True)\n",
        "bert_labels.sort_values(by='_unit_id',inplace=True,ignore_index=True)"
      ],
      "execution_count": null,
      "outputs": []
    },
    {
      "cell_type": "code",
      "metadata": {
        "id": "0qxNpvUh4nRy",
        "colab_type": "code",
        "colab": {}
      },
      "source": [
        "human_auc_dict = {attribute: [] for attribute in attributes}\n",
        "bert_auc_dict = {attribute: [] for attribute in attributes}"
      ],
      "execution_count": null,
      "outputs": []
    },
    {
      "cell_type": "code",
      "metadata": {
        "id": "wnFZauCi2uk1",
        "colab_type": "code",
        "colab": {}
      },
      "source": [
        "def generate_aucs(unhealthy_test, bert_labels, human_auc_dict, bert_auc_dict):\n",
        "  random_worker = unhealthy_test.groupby('_unit_id', as_index=False).apply(lambda x: x.loc[np.random.choice(x.index)])\n",
        "  other_workers = unhealthy_test[~unhealthy_test['concat_id'].isin(random_worker.concat_id)]\n",
        "\n",
        "  agg_dict = {attribute: 'mean' for attribute in attributes}\n",
        "  agg_dict.update({'comment': 'first'})\n",
        "  other_workers_agg = other_workers.groupby('_unit_id', as_index=False).agg(agg_dict)\n",
        "\n",
        "  assert all(other_workers_agg._unit_id == random_worker._unit_id)\n",
        "  assert all(other_workers_agg._unit_id == bert_labels._unit_id)\n",
        "\n",
        "  for attribute in attributes:\n",
        "    other_workers_agg['binary_' + attribute] = other_workers_agg[attribute] > 0.5\n",
        "    #print(attribute)\n",
        "    human_auc = roc_auc_score(other_workers_agg['binary_' + attribute],random_worker[attribute])\n",
        "    #print(f'Human AUC: {human_auc}')\n",
        "    human_auc_dict[attribute].append(human_auc)\n",
        "    bert_auc = roc_auc_score(other_workers_agg['binary_'+ attribute], bert_labels['pred_' + attribute])\n",
        "    #print(f'BERT AUC: {bert_auc}')\n",
        "    bert_auc_dict[attribute].append(bert_auc)"
      ],
      "execution_count": null,
      "outputs": []
    },
    {
      "cell_type": "code",
      "metadata": {
        "id": "EfFqRbM0vomf",
        "colab_type": "code",
        "colab": {}
      },
      "source": [
        "for i in range(5):\n",
        "  print(i)\n",
        "  generate_aucs(unhealthy_test, bert_labels, human_auc_dict, bert_auc_dict)"
      ],
      "execution_count": null,
      "outputs": []
    },
    {
      "cell_type": "code",
      "metadata": {
        "id": "xjSGbb15zUBb",
        "colab_type": "code",
        "colab": {}
      },
      "source": [
        "human_auc_dict"
      ],
      "execution_count": null,
      "outputs": []
    },
    {
      "cell_type": "code",
      "metadata": {
        "id": "kC3uX8ol6-Tc",
        "colab_type": "code",
        "colab": {}
      },
      "source": [
        "for attribute in attributes:\n",
        "  print(attribute)\n",
        "  avg_human_auc = np.mean(human_auc_dict[attribute])\n",
        "  print(f'Average Human AUC: {avg_human_auc}')\n",
        "  avg_bert_auc = np.mean(bert_auc_dict[attribute])\n",
        "  print(f'Average BERT AUC: {avg_bert_auc}')"
      ],
      "execution_count": null,
      "outputs": []
    },
    {
      "cell_type": "code",
      "metadata": {
        "id": "JLBM0p_r7qK3",
        "colab_type": "code",
        "colab": {}
      },
      "source": [
        ""
      ],
      "execution_count": null,
      "outputs": []
    }
  ]
}