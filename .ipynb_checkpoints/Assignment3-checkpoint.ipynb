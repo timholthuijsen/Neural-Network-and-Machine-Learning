{
 "cells": [
  {
   "cell_type": "code",
   "execution_count": 51,
   "metadata": {},
   "outputs": [],
   "source": [
    "import pandas as pd\n",
    "import numpy as np\n",
    "import matplotlib\n",
    "from sklearn.metrics.pairwise import cosine_similarity\n",
    "from scipy.optimize import minimize, rosen, rosen_der\n",
    "from sklearn.model_selection import train_test_split"
   ]
  },
  {
   "cell_type": "code",
   "execution_count": 84,
   "metadata": {},
   "outputs": [],
   "source": [
    "data = pd.read_csv(\"corpus/train.csv\")\n",
    "class_data = data[[\"antagonise\", \"condescending\", \"dismissive\", \"generalisation\", \"generalisation_unfair\", \"hostile\", \"sarcastic\"]].copy()\n",
    "conf_data = data[['antagonise:confidence', 'condescending:confidence', 'dismissive:confidence','generalisation:confidence', 'generalisation_unfair',\n",
    "       'generalisation_unfair:confidence','hostile:confidence', 'sarcastic:confidence']].copy\n",
    "# np_data = np.array(data)\n",
    "# print(data.columns)\n",
    "# data_index = {name:i for i, name in enumerate(data.columns)}\n",
    "\n",
    "# data_index[\"_unit_id\"]\n",
    "# class_data"
   ]
  },
  {
   "cell_type": "code",
   "execution_count": 88,
   "metadata": {},
   "outputs": [],
   "source": [
    "target_column = \"healthy\"\n",
    "# data = data.drop(columns = [\"comment\", \"_unit_id\"])\n",
    "\n",
    "xtrain, xtest, ytrain, ytest = train_test_split(class_data, data[target_column])"
   ]
  },
  {
   "cell_type": "code",
   "execution_count": 85,
   "metadata": {},
   "outputs": [
    {
     "name": "stdout",
     "output_type": "stream",
     "text": [
      "The total of comments is 35503, of those 32848 healthy, \n",
      "so saying everything is healthy would already result in a correct percentage of 92.52175872461483%\n"
     ]
    }
   ],
   "source": [
    "pos_sum = sum(all_data[\"healthy\"])\n",
    "print(f\"\"\"The total of comments is {len(all_data)}, of those {pos_sum} healthy, \n",
    "so saying everything is healthy would already result in a correct percentage of {pos_sum/ len(all_data)*100}%\"\"\")\n"
   ]
  },
  {
   "cell_type": "code",
   "execution_count": 109,
   "metadata": {},
   "outputs": [
    {
     "name": "stdout",
     "output_type": "stream",
     "text": [
      "LogisticRegression 0.9458089229382605\n",
      "RandomForestClassifier 0.949188823794502\n",
      "SVC 0.9490761604326273\n",
      "VotingClassifier 0.949188823794502\n"
     ]
    }
   ],
   "source": [
    "from sklearn.ensemble import RandomForestClassifier, VotingClassifier\n",
    "from sklearn.linear_model import LogisticRegression\n",
    "from sklearn.svm import SVC\n",
    "from sklearn.metrics import accuracy_score\n",
    "from sklearn.model_selection import train_test_split\n",
    "\n",
    "log_clf = LogisticRegression()\n",
    "rnd_clf = RandomForestClassifier(n_estimators=100)\n",
    "svm_clf = SVC()\n",
    "\n",
    "voting_clf = VotingClassifier(\n",
    "    estimators=[(\"lr\", log_clf), (\"rf\", rnd_clf), (\"svc\", svm_clf)],\n",
    "    voting=\"hard\",\n",
    ")\n",
    "voting_clf.fit(xtrain, ytrain)\n",
    "\n",
    "for clf in (log_clf, rnd_clf, svm_clf, voting_clf):\n",
    "    clf.fit(xtrain, ytrain)\n",
    "    y_pred = clf.predict(xtest)\n",
    "    print(clf.__class__.__name__, accuracy_score(ytest, y_pred))"
   ]
  },
  {
   "cell_type": "code",
   "execution_count": 112,
   "metadata": {},
   "outputs": [
    {
     "name": "stdout",
     "output_type": "stream",
     "text": [
      "LogisticRegression 0.9458089229382605\n",
      "RandomForestClassifier 0.9495268138801262\n",
      "SVC 0.9490761604326273\n",
      "GaussianNB 0.9151644885083371\n",
      "VotingClassifier 0.9481748535376295\n"
     ]
    }
   ],
   "source": [
    "from matplotlib.colors import ListedColormap\n",
    "from sklearn.model_selection import train_test_split\n",
    "from sklearn.preprocessing import StandardScaler\n",
    "from sklearn.datasets import make_moons, make_circles, make_classification\n",
    "from sklearn.neural_network import MLPClassifier\n",
    "from sklearn.neighbors import KNeighborsClassifier\n",
    "from sklearn.svm import SVC\n",
    "from sklearn.gaussian_process import GaussianProcessClassifier\n",
    "from sklearn.gaussian_process.kernels import RBF\n",
    "from sklearn.tree import DecisionTreeClassifier\n",
    "from sklearn.naive_bayes import GaussianNB\n",
    "from sklearn.discriminant_analysis import QuadraticDiscriminantAnalysis\n",
    "\n",
    "from sklearn.ensemble import RandomForestClassifier, VotingClassifier\n",
    "from sklearn.linear_model import LogisticRegression\n",
    "from sklearn.svm import SVC\n",
    "from sklearn.metrics import accuracy_score\n",
    "from sklearn.model_selection import train_test_split\n",
    "\n",
    "\n",
    "\n",
    "# Add all the estemators/classifiers\n",
    "est = [(\"lr\", LogisticRegression()), \n",
    "       (\"rf\", RandomForestClassifier(n_estimators=100)), \n",
    "       (\"svc\", SVC()), \n",
    "       (\"nb\", GaussianNB())]\n",
    "voting_clf = VotingClassifier(\n",
    "    estimators=est,\n",
    "    voting=\"hard\",\n",
    ")\n",
    "voting_clf.fit(xtrain, ytrain)\n",
    "\n",
    "for _, clf in est:\n",
    "    clf.fit(xtrain, ytrain)\n",
    "    y_pred = clf.predict(xtest)\n",
    "    print(clf.__class__.__name__, accuracy_score(ytest, y_pred))\n",
    "    \n",
    "# And now we print the voting clf\n",
    "voting_clf.fit(xtrain, ytrain)\n",
    "y_pred = voting_clf.predict(xtest)\n",
    "print(voting_clf.__class__.__name__, accuracy_score(ytest, y_pred))"
   ]
  }
 ],
 "metadata": {
  "kernelspec": {
   "display_name": "Python 3",
   "language": "python",
   "name": "python3"
  },
  "language_info": {
   "codemirror_mode": {
    "name": "ipython",
    "version": 3
   },
   "file_extension": ".py",
   "mimetype": "text/x-python",
   "name": "python",
   "nbconvert_exporter": "python",
   "pygments_lexer": "ipython3",
   "version": "3.8.3"
  }
 },
 "nbformat": 4,
 "nbformat_minor": 4
}
