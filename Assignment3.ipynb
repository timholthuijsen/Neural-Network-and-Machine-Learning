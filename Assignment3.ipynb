{
 "cells": [
  {
   "cell_type": "code",
   "execution_count": 151,
   "metadata": {},
   "outputs": [],
   "source": [
    "import pandas as pd\n",
    "import numpy as np\n",
    "import matplotlib\n",
    "from sklearn.metrics.pairwise import cosine_similarity\n",
    "from scipy.optimize import minimize, rosen, rosen_der\n",
    "from sklearn.model_selection import train_test_split"
   ]
  },
  {
   "cell_type": "code",
   "execution_count": 152,
   "metadata": {},
   "outputs": [],
   "source": [
    "data = pd.read_csv(\"corpus/train.csv\")\n",
    "class_data = data[[\"antagonise\", \"condescending\", \"dismissive\", \"generalisation\", \"generalisation_unfair\", \"hostile\", \"sarcastic\"]]\n",
    "conf_data = data[['antagonise:confidence', 'condescending:confidence', 'dismissive:confidence','generalisation:confidence', 'generalisation_unfair',\n",
    "       'generalisation_unfair:confidence','hostile:confidence', 'sarcastic:confidence']]\n",
    "# np_data = np.array(data)\n",
    "# print(data.columns)\n",
    "# data_index = {name:i for i, name in enumerate(data.columns)}\n",
    "\n",
    "# data_index[\"_unit_id\"]\n",
    "# class_data"
   ]
  },
  {
   "cell_type": "code",
   "execution_count": 153,
   "metadata": {},
   "outputs": [],
   "source": [
    "target_column = \"healthy\"\n",
    "# data = data.drop(columns = [\"comment\", \"_unit_id\"])\n",
    "\n",
    "xtrain, xtest, ytrain, ytest = train_test_split(class_data, data[target_column])"
   ]
  },
  {
   "cell_type": "code",
   "execution_count": 154,
   "metadata": {},
   "outputs": [
    {
     "name": "stdout",
     "output_type": "stream",
     "text": [
      "The total of comments is 35503, of those 32848 healthy, \n",
      "so saying everything is healthy would already result in a correct percentage of 92.52175872461483%\n"
     ]
    }
   ],
   "source": [
    "pos_sum = sum(all_data[\"healthy\"])\n",
    "print(f\"\"\"The total of comments is {len(all_data)}, of those {pos_sum} healthy, \n",
    "so saying everything is healthy would already result in a correct percentage of {pos_sum/ len(all_data)*100}%\"\"\")\n"
   ]
  },
  {
   "cell_type": "code",
   "execution_count": 155,
   "metadata": {},
   "outputs": [
    {
     "name": "stdout",
     "output_type": "stream",
     "text": [
      "LogisticRegression 0.9428796755295178\n",
      "RandomForestClassifier 0.9449076160432627\n",
      "SVC 0.9450202794051374\n",
      "VotingClassifier 0.9451329427670122\n"
     ]
    }
   ],
   "source": [
    "from sklearn.ensemble import RandomForestClassifier, VotingClassifier\n",
    "from sklearn.linear_model import LogisticRegression\n",
    "from sklearn.svm import SVC\n",
    "from sklearn.metrics import accuracy_score\n",
    "from sklearn.model_selection import train_test_split\n",
    "\n",
    "log_clf = LogisticRegression()\n",
    "rnd_clf = RandomForestClassifier(n_estimators=100)\n",
    "svm_clf = SVC()\n",
    "\n",
    "voting_clf = VotingClassifier(\n",
    "    estimators=[(\"lr\", log_clf), (\"rf\", rnd_clf), (\"svc\", svm_clf)],\n",
    "    voting=\"hard\",\n",
    ")\n",
    "voting_clf.fit(xtrain, ytrain)\n",
    "\n",
    "for clf in (log_clf, rnd_clf, svm_clf, voting_clf):\n",
    "    clf.fit(xtrain,Confidence ytrain)\n",
    "    y_pred = clf.predict(xtest)\n",
    "    print(clf.__class__.__name__, accuracy_score(ytest, y_pred))"
   ]
  },
  {
   "cell_type": "code",
   "execution_count": 166,
   "metadata": {
    "scrolled": true
   },
   "outputs": [
    {
     "name": "stdout",
     "output_type": "stream",
     "text": [
      "LogisticRegression 0.9428796755295178\n",
      "RandomForestClassifier 0.9449076160432627\n",
      "GaussianNB 0.9106579540333484\n",
      "QuadraticDiscriminantAnalysis 0.9106579540333484\n",
      "KNeighborsClassifier 0.9431050022532672\n",
      "MLPClassifier 0.9454709328526363\n",
      "VotingClassifier 0.9450202794051374\n"
     ]
    }
   ],
   "source": [
    "from matplotlib.colors import ListedColormap\n",
    "from sklearn.model_selection import train_test_split\n",
    "from sklearn.preprocessing import StandardScaler\n",
    "from sklearn.datasets import make_moons, make_circles, make_classification\n",
    "from sklearn.neural_network import MLPClassifier\n",
    "from sklearn.neighbors import KNeighborsClassifier\n",
    "from sklearn.ensemble import RandomForestClassifier, VotingClassifier\n",
    "from sklearn.linear_model import LogisticRegression\n",
    "from sklearn.svm import SVC\n",
    "from sklearn.metrics import accuracy_score\n",
    "from sklearn.model_selection import train_test_split\n",
    "from sklearn.naive_bayes import GaussianNB\n",
    "from sklearn.discriminant_analysis import QuadraticDiscriminantAnalysis\n",
    "\n",
    "def classify(xtrain, xtest,ytrain, ytest):\n",
    "    # Add all the estemators/classifiers\n",
    "    est = [(\"lr\", LogisticRegression()), \n",
    "           (\"rf\", RandomForestClassifier(n_estimators=100)), \n",
    "           (\"nb\", GaussianNB()),\n",
    "            (\"qda\", QuadraticDiscriminantAnalysis()),\n",
    "           (\"kn\", KNeighborsClassifier()),\n",
    "           (\"mlp\", MLPClassifier())\n",
    "           ]\n",
    "    voting_clf = VotingClassifier(\n",
    "        estimators=est,\n",
    "        voting=\"hard\",\n",
    "    )\n",
    "    voting_clf.fit(xtrain, ytrain)\n",
    "\n",
    "    for _, clf in est:\n",
    "        clf.fit(xtrain, ytrain)\n",
    "        y_pred = clf.predict(xtest)\n",
    "        print(clf.__class__.__name__, accuracy_score(ytest, y_pred))\n",
    "\n",
    "    # And now we print the voting clf\n",
    "    voting_clf.fit(xtrain, ytrain)\n",
    "    y_pred = voting_clf.predict(xtest)\n",
    "    print(voting_clf.__class__.__name__, accuracy_score(ytest, y_pred))\n",
    "classify(xtrain, xtest,ytrain, ytest)"
   ]
  },
  {
   "cell_type": "markdown",
   "metadata": {},
   "source": [
    "# Confidence attempt"
   ]
  },
  {
   "cell_type": "code",
   "execution_count": 165,
   "metadata": {},
   "outputs": [
    {
     "name": "stdout",
     "output_type": "stream",
     "text": [
      "[[0.5816 0.5816 0.5816 ... 1.     1.     0.4184]\n",
      " [0.     0.     0.     ... 1.     0.     0.    ]\n",
      " [0.     0.1937 0.     ... 1.     0.     0.    ]\n",
      " ...\n",
      " [0.     0.     0.     ... 1.     0.     0.    ]\n",
      " [0.     0.     0.     ... 1.     0.     0.    ]\n",
      " [0.     0.     0.     ... 1.     0.     0.    ]]\n"
     ]
    }
   ],
   "source": [
    "np.array(conf_data)\n",
    "weighted = []\n",
    "for conf_column, class_column in zip(conf_data, class_data):\n",
    "    column = []\n",
    "    for conf, clas in zip(data[conf_column], data[class_column]):\n",
    "        if clas == 1:\n",
    "            new = conf\n",
    "        else: \n",
    "            new = 1 - conf\n",
    "        column.append(new)\n",
    "    weighted.append(column)\n",
    "    \n",
    "weighted = np.array(weighted).T\n",
    "print(weighted)\n",
    "\n",
    "\n"
   ]
  },
  {
   "cell_type": "code",
   "execution_count": null,
   "metadata": {},
   "outputs": [],
   "source": [
    "classify(xtrain, xtest,ytrain, ytest)"
   ]
  }
 ],
 "metadata": {
  "kernelspec": {
   "display_name": "Python 3",
   "language": "python",
   "name": "python3"
  },
  "language_info": {
   "codemirror_mode": {
    "name": "ipython",
    "version": 3
   },
   "file_extension": ".py",
   "mimetype": "text/x-python",
   "name": "python",
   "nbconvert_exporter": "python",
   "pygments_lexer": "ipython3",
   "version": "3.8.3"
  }
 },
 "nbformat": 4,
 "nbformat_minor": 4
}
