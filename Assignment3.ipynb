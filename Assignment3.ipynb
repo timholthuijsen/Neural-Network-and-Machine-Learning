{
 "cells": [
  {
   "cell_type": "code",
   "execution_count": 1,
   "metadata": {},
   "outputs": [],
   "source": [
    "import pandas as pd\n",
    "import numpy as np\n",
    "import matplotlib\n",
    "from sklearn.metrics.pairwise import cosine_similarity\n",
    "from scipy.optimize import minimize, rosen, rosen_der\n",
    "from sklearn.model_selection import train_test_split"
   ]
  },
  {
   "cell_type": "code",
   "execution_count": 2,
   "metadata": {},
   "outputs": [
    {
     "data": {
      "text/html": [
       "<div>\n",
       "<style scoped>\n",
       "    .dataframe tbody tr th:only-of-type {\n",
       "        vertical-align: middle;\n",
       "    }\n",
       "\n",
       "    .dataframe tbody tr th {\n",
       "        vertical-align: top;\n",
       "    }\n",
       "\n",
       "    .dataframe thead th {\n",
       "        text-align: right;\n",
       "    }\n",
       "</style>\n",
       "<table border=\"1\" class=\"dataframe\">\n",
       "  <thead>\n",
       "    <tr style=\"text-align: right;\">\n",
       "      <th></th>\n",
       "      <th>antagonise:confidence</th>\n",
       "      <th>condescending:confidence</th>\n",
       "      <th>dismissive:confidence</th>\n",
       "      <th>generalisation:confidence</th>\n",
       "      <th>generalisation_unfair</th>\n",
       "      <th>generalisation_unfair:confidence</th>\n",
       "      <th>hostile:confidence</th>\n",
       "      <th>sarcastic:confidence</th>\n",
       "    </tr>\n",
       "  </thead>\n",
       "  <tbody>\n",
       "    <tr>\n",
       "      <th>0</th>\n",
       "      <td>0.5816</td>\n",
       "      <td>0.5816</td>\n",
       "      <td>0.5816</td>\n",
       "      <td>1.0000</td>\n",
       "      <td>0.0</td>\n",
       "      <td>1.0</td>\n",
       "      <td>0.5816</td>\n",
       "      <td>0.8001</td>\n",
       "    </tr>\n",
       "    <tr>\n",
       "      <th>1</th>\n",
       "      <td>1.0000</td>\n",
       "      <td>1.0000</td>\n",
       "      <td>1.0000</td>\n",
       "      <td>1.0000</td>\n",
       "      <td>0.0</td>\n",
       "      <td>1.0</td>\n",
       "      <td>1.0000</td>\n",
       "      <td>1.0000</td>\n",
       "    </tr>\n",
       "    <tr>\n",
       "      <th>2</th>\n",
       "      <td>1.0000</td>\n",
       "      <td>0.8063</td>\n",
       "      <td>1.0000</td>\n",
       "      <td>1.0000</td>\n",
       "      <td>0.0</td>\n",
       "      <td>1.0</td>\n",
       "      <td>1.0000</td>\n",
       "      <td>0.8063</td>\n",
       "    </tr>\n",
       "    <tr>\n",
       "      <th>3</th>\n",
       "      <td>0.7931</td>\n",
       "      <td>0.5959</td>\n",
       "      <td>0.5959</td>\n",
       "      <td>1.0000</td>\n",
       "      <td>0.0</td>\n",
       "      <td>1.0</td>\n",
       "      <td>1.0000</td>\n",
       "      <td>0.6052</td>\n",
       "    </tr>\n",
       "    <tr>\n",
       "      <th>4</th>\n",
       "      <td>1.0000</td>\n",
       "      <td>1.0000</td>\n",
       "      <td>1.0000</td>\n",
       "      <td>1.0000</td>\n",
       "      <td>0.0</td>\n",
       "      <td>1.0</td>\n",
       "      <td>1.0000</td>\n",
       "      <td>1.0000</td>\n",
       "    </tr>\n",
       "    <tr>\n",
       "      <th>...</th>\n",
       "      <td>...</td>\n",
       "      <td>...</td>\n",
       "      <td>...</td>\n",
       "      <td>...</td>\n",
       "      <td>...</td>\n",
       "      <td>...</td>\n",
       "      <td>...</td>\n",
       "      <td>...</td>\n",
       "    </tr>\n",
       "    <tr>\n",
       "      <th>35498</th>\n",
       "      <td>0.8114</td>\n",
       "      <td>0.7888</td>\n",
       "      <td>0.8114</td>\n",
       "      <td>0.6002</td>\n",
       "      <td>0.0</td>\n",
       "      <td>0.0</td>\n",
       "      <td>0.6002</td>\n",
       "      <td>0.6002</td>\n",
       "    </tr>\n",
       "    <tr>\n",
       "      <th>35499</th>\n",
       "      <td>1.0000</td>\n",
       "      <td>1.0000</td>\n",
       "      <td>1.0000</td>\n",
       "      <td>1.0000</td>\n",
       "      <td>0.0</td>\n",
       "      <td>1.0</td>\n",
       "      <td>1.0000</td>\n",
       "      <td>1.0000</td>\n",
       "    </tr>\n",
       "    <tr>\n",
       "      <th>35500</th>\n",
       "      <td>1.0000</td>\n",
       "      <td>1.0000</td>\n",
       "      <td>1.0000</td>\n",
       "      <td>1.0000</td>\n",
       "      <td>0.0</td>\n",
       "      <td>1.0</td>\n",
       "      <td>1.0000</td>\n",
       "      <td>1.0000</td>\n",
       "    </tr>\n",
       "    <tr>\n",
       "      <th>35501</th>\n",
       "      <td>1.0000</td>\n",
       "      <td>1.0000</td>\n",
       "      <td>1.0000</td>\n",
       "      <td>1.0000</td>\n",
       "      <td>0.0</td>\n",
       "      <td>1.0</td>\n",
       "      <td>1.0000</td>\n",
       "      <td>1.0000</td>\n",
       "    </tr>\n",
       "    <tr>\n",
       "      <th>35502</th>\n",
       "      <td>1.0000</td>\n",
       "      <td>1.0000</td>\n",
       "      <td>1.0000</td>\n",
       "      <td>1.0000</td>\n",
       "      <td>0.0</td>\n",
       "      <td>1.0</td>\n",
       "      <td>1.0000</td>\n",
       "      <td>1.0000</td>\n",
       "    </tr>\n",
       "  </tbody>\n",
       "</table>\n",
       "<p>35503 rows × 8 columns</p>\n",
       "</div>"
      ],
      "text/plain": [
       "       antagonise:confidence  condescending:confidence  dismissive:confidence  \\\n",
       "0                     0.5816                    0.5816                 0.5816   \n",
       "1                     1.0000                    1.0000                 1.0000   \n",
       "2                     1.0000                    0.8063                 1.0000   \n",
       "3                     0.7931                    0.5959                 0.5959   \n",
       "4                     1.0000                    1.0000                 1.0000   \n",
       "...                      ...                       ...                    ...   \n",
       "35498                 0.8114                    0.7888                 0.8114   \n",
       "35499                 1.0000                    1.0000                 1.0000   \n",
       "35500                 1.0000                    1.0000                 1.0000   \n",
       "35501                 1.0000                    1.0000                 1.0000   \n",
       "35502                 1.0000                    1.0000                 1.0000   \n",
       "\n",
       "       generalisation:confidence  generalisation_unfair  \\\n",
       "0                         1.0000                    0.0   \n",
       "1                         1.0000                    0.0   \n",
       "2                         1.0000                    0.0   \n",
       "3                         1.0000                    0.0   \n",
       "4                         1.0000                    0.0   \n",
       "...                          ...                    ...   \n",
       "35498                     0.6002                    0.0   \n",
       "35499                     1.0000                    0.0   \n",
       "35500                     1.0000                    0.0   \n",
       "35501                     1.0000                    0.0   \n",
       "35502                     1.0000                    0.0   \n",
       "\n",
       "       generalisation_unfair:confidence  hostile:confidence  \\\n",
       "0                                   1.0              0.5816   \n",
       "1                                   1.0              1.0000   \n",
       "2                                   1.0              1.0000   \n",
       "3                                   1.0              1.0000   \n",
       "4                                   1.0              1.0000   \n",
       "...                                 ...                 ...   \n",
       "35498                               0.0              0.6002   \n",
       "35499                               1.0              1.0000   \n",
       "35500                               1.0              1.0000   \n",
       "35501                               1.0              1.0000   \n",
       "35502                               1.0              1.0000   \n",
       "\n",
       "       sarcastic:confidence  \n",
       "0                    0.8001  \n",
       "1                    1.0000  \n",
       "2                    0.8063  \n",
       "3                    0.6052  \n",
       "4                    1.0000  \n",
       "...                     ...  \n",
       "35498                0.6002  \n",
       "35499                1.0000  \n",
       "35500                1.0000  \n",
       "35501                1.0000  \n",
       "35502                1.0000  \n",
       "\n",
       "[35503 rows x 8 columns]"
      ]
     },
     "execution_count": 2,
     "metadata": {},
     "output_type": "execute_result"
    }
   ],
   "source": [
    "data = pd.read_csv(\"corpus/train.csv\")\n",
    "class_data = data[[\"antagonise\", \"condescending\", \"dismissive\", \"generalisation\", \"generalisation_unfair\", \"hostile\", \"sarcastic\"]]\n",
    "conf_data = data[['antagonise:confidence', 'condescending:confidence', 'dismissive:confidence','generalisation:confidence', 'generalisation_unfair',\n",
    "       'generalisation_unfair:confidence','hostile:confidence', 'sarcastic:confidence']]\n",
    "# np_data = np.array(data)\n",
    "# print(data.columns)\n",
    "# data_index = {name:i for i, name in enumerate(data.columns)}\n",
    "\n",
    "# data_index[\"_unit_id\"]\n",
    "# class_data\n",
    "# print(data)\n",
    "conf_data"
   ]
  },
  {
   "cell_type": "code",
   "execution_count": 3,
   "metadata": {},
   "outputs": [],
   "source": [
    "target_column = \"healthy\"\n",
    "# data = data.drop(columns = [\"comment\", \"_unit_id\"])\n",
    "\n",
    "xtrain, xtest, ytrain, ytest = train_test_split(class_data, data[target_column])"
   ]
  },
  {
   "cell_type": "code",
   "execution_count": 4,
   "metadata": {},
   "outputs": [
    {
     "name": "stdout",
     "output_type": "stream",
     "text": [
      "The total of comments is 35503, of those 32848 healthy, \n",
      "so saying everything is healthy would already result in a correct percentage of 92.52175872461483%\n"
     ]
    }
   ],
   "source": [
    "pos_sum = sum(data[\"healthy\"])\n",
    "print(f\"\"\"The total of comments is {len(data)}, of those {pos_sum} healthy, \n",
    "so saying everything is healthy would already result in a correct percentage of {pos_sum/ len(data)*100}%\"\"\")\n"
   ]
  },
  {
   "cell_type": "code",
   "execution_count": 6,
   "metadata": {},
   "outputs": [
    {
     "name": "stdout",
     "output_type": "stream",
     "text": [
      "LogisticRegression 0.9428796755295178\n",
      "RandomForestClassifier 0.9444569625957638\n",
      "SVC 0.9443442992338892\n",
      "VotingClassifier 0.9444569625957638\n"
     ]
    }
   ],
   "source": [
    "# from sklearn.ensemble import RandomForestClassifier, VotingClassifier\n",
    "# from sklearn.linear_model import LogisticRegression\n",
    "# from sklearn.svm import SVC\n",
    "# from sklearn.metrics import accuracy_score\n",
    "# from sklearn.model_selection import train_test_split\n",
    "\n",
    "# log_clf = LogisticRegression()\n",
    "# rnd_clf = RandomForestClassifier(n_estimators=100)\n",
    "# svm_clf = SVC()\n",
    "\n",
    "# voting_clf = VotingClassifier(\n",
    "#     estimators=[(\"lr\", log_clf), (\"rf\", rnd_clf), (\"svc\", svm_clf)],\n",
    "#     voting=\"hard\",\n",
    "# )\n",
    "# voting_clf.fit(xtrain, ytrain)\n",
    "\n",
    "# for clf in (log_clf, rnd_clf, svm_clf, voting_clf):\n",
    "#     clf.fit(xtrain, ytrain)\n",
    "#     y_pred = clf.predict(xtest)\n",
    "#     print(clf.__class__.__name__, accuracy_score(ytest, y_pred))"
   ]
  },
  {
   "cell_type": "code",
   "execution_count": 5,
   "metadata": {
    "scrolled": false
   },
   "outputs": [
    {
     "name": "stdout",
     "output_type": "stream",
     "text": [
      "LogisticRegression 0.9400630914826499\n",
      "RandomForestClassifier 0.9425416854438936\n",
      "GaussianNB 0.9076160432627309\n",
      "QuadraticDiscriminantAnalysis 0.9076160432627309\n",
      "KNeighborsClassifier 0.9383731410545291\n",
      "MLPClassifier 0.9433303289770166\n",
      "VotingClassifier 0.9400630914826499\n"
     ]
    }
   ],
   "source": [
    "from matplotlib.colors import ListedColormap\n",
    "from sklearn.model_selection import train_test_split\n",
    "from sklearn.preprocessing import StandardScaler\n",
    "from sklearn.datasets import make_moons, make_circles, make_classification\n",
    "from sklearn.neural_network import MLPClassifier\n",
    "from sklearn.neighbors import KNeighborsClassifier\n",
    "from sklearn.ensemble import RandomForestClassifier, VotingClassifier\n",
    "from sklearn.linear_model import LogisticRegression\n",
    "from sklearn.svm import SVC\n",
    "from sklearn.metrics import accuracy_score\n",
    "from sklearn.model_selection import train_test_split\n",
    "from sklearn.naive_bayes import GaussianNB\n",
    "from sklearn.discriminant_analysis import QuadraticDiscriminantAnalysis\n",
    "\n",
    "def classify(xtrain, xtest,ytrain, ytest, voting=\"hard\"):\n",
    "    # Add all the estemators/classifiers\n",
    "    est = [(\"lr\", LogisticRegression()), \n",
    "           (\"rf\", RandomForestClassifier(n_estimators=100)), \n",
    "           (\"nb\", GaussianNB()),\n",
    "            (\"qda\", QuadraticDiscriminantAnalysis()),\n",
    "           (\"kn\", KNeighborsClassifier()),\n",
    "           (\"mlp\", MLPClassifier())\n",
    "           ]\n",
    "    voting_clf = VotingClassifier(\n",
    "        estimators=est,\n",
    "        voting=voting,\n",
    "    )\n",
    "    voting_clf.fit(xtrain, ytrain)\n",
    "\n",
    "    for _, clf in est:\n",
    "        clf.fit(xtrain, ytrain)\n",
    "        y_pred = clf.predict(xtest)\n",
    "        print(clf.__class__.__name__, accuracy_score(ytest, y_pred))\n",
    "\n",
    "    # And now we print the voting clf\n",
    "    voting_clf.fit(xtrain, ytrain)\n",
    "    y_pred = voting_clf.predict(xtest)\n",
    "    print(voting_clf.__class__.__name__, accuracy_score(ytest, y_pred))\n",
    "classify(xtrain, xtest,ytrain, ytest)"
   ]
  },
  {
   "cell_type": "markdown",
   "metadata": {},
   "source": [
    "## Soft voting"
   ]
  },
  {
   "cell_type": "code",
   "execution_count": 8,
   "metadata": {},
   "outputs": [
    {
     "name": "stdout",
     "output_type": "stream",
     "text": [
      "LogisticRegression 0.9428796755295178\n",
      "RandomForestClassifier 0.9438936457863902\n",
      "GaussianNB 0.912009914375845\n",
      "QuadraticDiscriminantAnalysis 0.912009914375845\n",
      "KNeighborsClassifier 0.9445696259576386\n",
      "MLPClassifier 0.9444569625957638\n",
      "VotingClassifier 0.943217665615142\n"
     ]
    }
   ],
   "source": [
    "classify(xtrain, xtest,ytrain, ytest, \"soft\")"
   ]
  },
  {
   "cell_type": "markdown",
   "metadata": {},
   "source": [
    "# Confidence attempt"
   ]
  },
  {
   "cell_type": "code",
   "execution_count": 6,
   "metadata": {},
   "outputs": [
    {
     "name": "stdout",
     "output_type": "stream",
     "text": [
      "[[0.5816 0.5816 0.5816 ... 1.     1.     0.4184]\n",
      " [0.     0.     0.     ... 1.     0.     0.    ]\n",
      " [0.     0.1937 0.     ... 1.     0.     0.    ]\n",
      " ...\n",
      " [0.     0.     0.     ... 1.     0.     0.    ]\n",
      " [0.     0.     0.     ... 1.     0.     0.    ]\n",
      " [0.     0.     0.     ... 1.     0.     0.    ]]\n"
     ]
    }
   ],
   "source": [
    "np.array(conf_data)\n",
    "weighted = []\n",
    "for conf_column, class_column in zip(conf_data, class_data):\n",
    "    column = []\n",
    "    for conf, clas in zip(data[conf_column], data[class_column]):\n",
    "        if clas == 1:\n",
    "            new = conf\n",
    "        else: \n",
    "            new = 1 - conf\n",
    "        column.append(new)\n",
    "    weighted.append(column)\n",
    "    \n",
    "    \n",
    "weightedold = weighted    \n",
    "weighted = np.array(weighted).T\n",
    "print(weighted)\n",
    "\n",
    "\n"
   ]
  },
  {
   "cell_type": "code",
   "execution_count": 10,
   "metadata": {},
   "outputs": [
    {
     "name": "stderr",
     "output_type": "stream",
     "text": [
      "/home/tim/.local/lib/python3.8/site-packages/sklearn/discriminant_analysis.py:715: UserWarning: Variables are collinear\n",
      "  warnings.warn(\"Variables are collinear\")\n"
     ]
    },
    {
     "name": "stdout",
     "output_type": "stream",
     "text": [
      "LogisticRegression 0.9450202794051374\n",
      "RandomForestClassifier 0.9426543488057684\n",
      "GaussianNB 0.894434429923389\n",
      "QuadraticDiscriminantAnalysis 0.7346777827850383\n"
     ]
    },
    {
     "name": "stderr",
     "output_type": "stream",
     "text": [
      "/home/tim/.local/lib/python3.8/site-packages/sklearn/discriminant_analysis.py:715: UserWarning: Variables are collinear\n",
      "  warnings.warn(\"Variables are collinear\")\n"
     ]
    },
    {
     "name": "stdout",
     "output_type": "stream",
     "text": [
      "KNeighborsClassifier 0.9413023884632717\n",
      "MLPClassifier 0.9476115367282559\n"
     ]
    },
    {
     "name": "stderr",
     "output_type": "stream",
     "text": [
      "/home/tim/.local/lib/python3.8/site-packages/sklearn/discriminant_analysis.py:715: UserWarning: Variables are collinear\n",
      "  warnings.warn(\"Variables are collinear\")\n"
     ]
    },
    {
     "name": "stdout",
     "output_type": "stream",
     "text": [
      "VotingClassifier 0.9420910319963948\n"
     ]
    }
   ],
   "source": [
    "xtrain, xtest, ytrain, ytest = train_test_split(weighted, data[target_column])\n",
    "classify(xtrain, xtest,ytrain, ytest)"
   ]
  },
  {
   "cell_type": "code",
   "execution_count": 7,
   "metadata": {},
   "outputs": [
    {
     "name": "stdout",
     "output_type": "stream",
     "text": [
      "LogisticRegression 0.9400630914826499\n",
      "RandomForestClassifier 0.9422036953582695\n",
      "GaussianNB 0.9076160432627309\n",
      "QuadraticDiscriminantAnalysis 0.9076160432627309\n",
      "KNeighborsClassifier 0.9383731410545291\n",
      "MLPClassifier 0.9433303289770166\n",
      "VotingClassifier 0.9379224876070302\n"
     ]
    }
   ],
   "source": [
    "classify(xtrain, xtest,ytrain, ytest, \"soft\")"
   ]
  },
  {
   "cell_type": "code",
   "execution_count": null,
   "metadata": {},
   "outputs": [],
   "source": [
    "# import seaborn as sns\n",
    "# correlations = pd.DataFrame(weightedold).corr()\n",
    "# sns.heatmap(correlations)\n"
   ]
  },
  {
   "cell_type": "code",
   "execution_count": 16,
   "metadata": {},
   "outputs": [
    {
     "name": "stdout",
     "output_type": "stream",
     "text": [
      "BaggingClassifier 0.9427670121676431\n"
     ]
    }
   ],
   "source": [
    "from sklearn.ensemble import BaggingClassifier\n",
    "\n",
    "from sklearn.tree import DecisionTreeClassifier\n",
    "bag_clf = BaggingClassifier(\n",
    "    DecisionTreeClassifier(splitter=\"random\", max_leaf_nodes=16),\n",
    "    n_estimators=500,\n",
    "    max_samples=1.0,\n",
    "    bootstrap=True,\n",
    ")\n",
    "bag_clf.fit(xtrain, ytrain)\n",
    "y_pred = bag_clf.predict(xtest)\n",
    "\n",
    "bag_clf.fit(xtrain, ytrain)\n",
    "y_pred = bag_clf.predict(xtest)\n",
    "print(bag_clf.__class__.__name__, accuracy_score(ytest, y_pred))"
   ]
  },
  {
   "cell_type": "code",
   "execution_count": null,
   "metadata": {},
   "outputs": [],
   "source": []
  },
  {
   "cell_type": "code",
   "execution_count": 21,
   "metadata": {},
   "outputs": [
    {
     "ename": "ImportError",
     "evalue": "Keras requires TensorFlow 2.2 or higher. Install TensorFlow via `pip install tensorflow`",
     "output_type": "error",
     "traceback": [
      "\u001b[0;31m---------------------------------------------------------------------------\u001b[0m",
      "\u001b[0;31mModuleNotFoundError\u001b[0m                       Traceback (most recent call last)",
      "\u001b[0;32m~/anaconda3/lib/python3.8/site-packages/keras/__init__.py\u001b[0m in \u001b[0;36m<module>\u001b[0;34m\u001b[0m\n\u001b[1;32m      2\u001b[0m \u001b[0;32mtry\u001b[0m\u001b[0;34m:\u001b[0m\u001b[0;34m\u001b[0m\u001b[0;34m\u001b[0m\u001b[0m\n\u001b[0;32m----> 3\u001b[0;31m     \u001b[0;32mfrom\u001b[0m \u001b[0mtensorflow\u001b[0m\u001b[0;34m.\u001b[0m\u001b[0mkeras\u001b[0m\u001b[0;34m.\u001b[0m\u001b[0mlayers\u001b[0m\u001b[0;34m.\u001b[0m\u001b[0mexperimental\u001b[0m\u001b[0;34m.\u001b[0m\u001b[0mpreprocessing\u001b[0m \u001b[0;32mimport\u001b[0m \u001b[0mRandomRotation\u001b[0m\u001b[0;34m\u001b[0m\u001b[0;34m\u001b[0m\u001b[0m\n\u001b[0m\u001b[1;32m      4\u001b[0m \u001b[0;32mexcept\u001b[0m \u001b[0mImportError\u001b[0m\u001b[0;34m:\u001b[0m\u001b[0;34m\u001b[0m\u001b[0;34m\u001b[0m\u001b[0m\n",
      "\u001b[0;32m~/anaconda3/lib/python3.8/site-packages/tensorflow/__init__.py\u001b[0m in \u001b[0;36m<module>\u001b[0;34m\u001b[0m\n\u001b[1;32m     40\u001b[0m \u001b[0;34m\u001b[0m\u001b[0m\n\u001b[0;32m---> 41\u001b[0;31m \u001b[0;32mfrom\u001b[0m \u001b[0mtensorflow\u001b[0m\u001b[0;34m.\u001b[0m\u001b[0mpython\u001b[0m\u001b[0;34m.\u001b[0m\u001b[0mtools\u001b[0m \u001b[0;32mimport\u001b[0m \u001b[0mmodule_util\u001b[0m \u001b[0;32mas\u001b[0m \u001b[0m_module_util\u001b[0m\u001b[0;34m\u001b[0m\u001b[0;34m\u001b[0m\u001b[0m\n\u001b[0m\u001b[1;32m     42\u001b[0m \u001b[0;32mfrom\u001b[0m \u001b[0mtensorflow\u001b[0m\u001b[0;34m.\u001b[0m\u001b[0mpython\u001b[0m\u001b[0;34m.\u001b[0m\u001b[0mutil\u001b[0m\u001b[0;34m.\u001b[0m\u001b[0mlazy_loader\u001b[0m \u001b[0;32mimport\u001b[0m \u001b[0mLazyLoader\u001b[0m \u001b[0;32mas\u001b[0m \u001b[0m_LazyLoader\u001b[0m\u001b[0;34m\u001b[0m\u001b[0;34m\u001b[0m\u001b[0m\n",
      "\u001b[0;32m~/anaconda3/lib/python3.8/site-packages/tensorflow/python/__init__.py\u001b[0m in \u001b[0;36m<module>\u001b[0;34m\u001b[0m\n\u001b[1;32m     39\u001b[0m \u001b[0;34m\u001b[0m\u001b[0m\n\u001b[0;32m---> 40\u001b[0;31m \u001b[0;32mfrom\u001b[0m \u001b[0mtensorflow\u001b[0m\u001b[0;34m.\u001b[0m\u001b[0mpython\u001b[0m\u001b[0;34m.\u001b[0m\u001b[0meager\u001b[0m \u001b[0;32mimport\u001b[0m \u001b[0mcontext\u001b[0m\u001b[0;34m\u001b[0m\u001b[0;34m\u001b[0m\u001b[0m\n\u001b[0m\u001b[1;32m     41\u001b[0m \u001b[0;34m\u001b[0m\u001b[0m\n",
      "\u001b[0;31mModuleNotFoundError\u001b[0m: No module named 'tensorflow.python.eager'",
      "\nDuring handling of the above exception, another exception occurred:\n",
      "\u001b[0;31mImportError\u001b[0m                               Traceback (most recent call last)",
      "\u001b[0;32m<ipython-input-21-f4d2359465d5>\u001b[0m in \u001b[0;36m<module>\u001b[0;34m\u001b[0m\n\u001b[0;32m----> 1\u001b[0;31m \u001b[0;32mfrom\u001b[0m \u001b[0mkeras\u001b[0m\u001b[0;34m.\u001b[0m\u001b[0mmodels\u001b[0m \u001b[0;32mimport\u001b[0m \u001b[0mSequential\u001b[0m\u001b[0;34m\u001b[0m\u001b[0;34m\u001b[0m\u001b[0m\n\u001b[0m\u001b[1;32m      2\u001b[0m \u001b[0;32mfrom\u001b[0m \u001b[0mkeras\u001b[0m\u001b[0;34m.\u001b[0m\u001b[0mlayers\u001b[0m \u001b[0;32mimport\u001b[0m \u001b[0mDense\u001b[0m\u001b[0;34m\u001b[0m\u001b[0;34m\u001b[0m\u001b[0m\n\u001b[1;32m      3\u001b[0m \u001b[0;31m# load the dataset\u001b[0m\u001b[0;34m\u001b[0m\u001b[0;34m\u001b[0m\u001b[0;34m\u001b[0m\u001b[0m\n\u001b[1;32m      4\u001b[0m \u001b[0;34m\u001b[0m\u001b[0m\n\u001b[1;32m      5\u001b[0m \u001b[0;31m# define the keras model\u001b[0m\u001b[0;34m\u001b[0m\u001b[0;34m\u001b[0m\u001b[0;34m\u001b[0m\u001b[0m\n",
      "\u001b[0;32m~/anaconda3/lib/python3.8/site-packages/keras/__init__.py\u001b[0m in \u001b[0;36m<module>\u001b[0;34m\u001b[0m\n\u001b[1;32m      3\u001b[0m     \u001b[0;32mfrom\u001b[0m \u001b[0mtensorflow\u001b[0m\u001b[0;34m.\u001b[0m\u001b[0mkeras\u001b[0m\u001b[0;34m.\u001b[0m\u001b[0mlayers\u001b[0m\u001b[0;34m.\u001b[0m\u001b[0mexperimental\u001b[0m\u001b[0;34m.\u001b[0m\u001b[0mpreprocessing\u001b[0m \u001b[0;32mimport\u001b[0m \u001b[0mRandomRotation\u001b[0m\u001b[0;34m\u001b[0m\u001b[0;34m\u001b[0m\u001b[0m\n\u001b[1;32m      4\u001b[0m \u001b[0;32mexcept\u001b[0m \u001b[0mImportError\u001b[0m\u001b[0;34m:\u001b[0m\u001b[0;34m\u001b[0m\u001b[0;34m\u001b[0m\u001b[0m\n\u001b[0;32m----> 5\u001b[0;31m     raise ImportError(\n\u001b[0m\u001b[1;32m      6\u001b[0m         \u001b[0;34m'Keras requires TensorFlow 2.2 or higher. '\u001b[0m\u001b[0;34m\u001b[0m\u001b[0;34m\u001b[0m\u001b[0m\n\u001b[1;32m      7\u001b[0m         'Install TensorFlow via `pip install tensorflow`')\n",
      "\u001b[0;31mImportError\u001b[0m: Keras requires TensorFlow 2.2 or higher. Install TensorFlow via `pip install tensorflow`"
     ]
    }
   ],
   "source": [
    "from keras.models import Sequential\n",
    "from keras.layers import Dense\n",
    "# load the dataset\n",
    "\n",
    "# define the keras model\n",
    "model = Sequential()\n",
    "model.add(Dense(12, input_dim=8, activation='relu'))\n",
    "model.add(Dense(8, activation='relu'))\n",
    "model.add(Dense(1, activation='sigmoid'))\n",
    "# compile the keras model\n",
    "model.compile(loss='binary_crossentropy', optimizer='adam', metrics=['accuracy'])\n",
    "# fit the keras model on the dataset\n",
    "model.fit(xtrain, ytrain, epochs=150, batch_size=10)\n",
    "# evaluate the keras model\n",
    "_, accuracy = model.evaluate(xtrain, ytrain)\n",
    "print('Accuracy: %.2f' % (accuracy*100))"
   ]
  }
 ],
 "metadata": {
  "kernelspec": {
   "display_name": "Python 3",
   "language": "python",
   "name": "python3"
  },
  "language_info": {
   "codemirror_mode": {
    "name": "ipython",
    "version": 3
   },
   "file_extension": ".py",
   "mimetype": "text/x-python",
   "name": "python",
   "nbconvert_exporter": "python",
   "pygments_lexer": "ipython3",
   "version": "3.8.3"
  }
 },
 "nbformat": 4,
 "nbformat_minor": 4
}
